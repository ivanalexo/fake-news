{
 "cells": [
  {
   "cell_type": "code",
   "execution_count": 1,
   "metadata": {},
   "outputs": [],
   "source": [
    "import pandas as pd"
   ]
  },
  {
   "cell_type": "code",
   "execution_count": null,
   "metadata": {},
   "outputs": [],
   "source": []
  },
  {
   "cell_type": "code",
   "execution_count": 2,
   "metadata": {},
   "outputs": [
    {
     "data": {
      "text/html": [
       "<div>\n",
       "<style scoped>\n",
       "    .dataframe tbody tr th:only-of-type {\n",
       "        vertical-align: middle;\n",
       "    }\n",
       "\n",
       "    .dataframe tbody tr th {\n",
       "        vertical-align: top;\n",
       "    }\n",
       "\n",
       "    .dataframe thead th {\n",
       "        text-align: right;\n",
       "    }\n",
       "</style>\n",
       "<table border=\"1\" class=\"dataframe\">\n",
       "  <thead>\n",
       "    <tr style=\"text-align: right;\">\n",
       "      <th></th>\n",
       "      <th>Unnamed: 0</th>\n",
       "      <th>title</th>\n",
       "      <th>text</th>\n",
       "      <th>label</th>\n",
       "    </tr>\n",
       "  </thead>\n",
       "  <tbody>\n",
       "    <tr>\n",
       "      <th>0</th>\n",
       "      <td>8476</td>\n",
       "      <td>You Can Smell Hillary’s Fear</td>\n",
       "      <td>Daniel Greenfield, a Shillman Journalism Fello...</td>\n",
       "      <td>FAKE</td>\n",
       "    </tr>\n",
       "    <tr>\n",
       "      <th>1</th>\n",
       "      <td>10294</td>\n",
       "      <td>Watch The Exact Moment Paul Ryan Committed Pol...</td>\n",
       "      <td>Google Pinterest Digg Linkedin Reddit Stumbleu...</td>\n",
       "      <td>FAKE</td>\n",
       "    </tr>\n",
       "    <tr>\n",
       "      <th>2</th>\n",
       "      <td>3608</td>\n",
       "      <td>Kerry to go to Paris in gesture of sympathy</td>\n",
       "      <td>U.S. Secretary of State John F. Kerry said Mon...</td>\n",
       "      <td>REAL</td>\n",
       "    </tr>\n",
       "    <tr>\n",
       "      <th>3</th>\n",
       "      <td>10142</td>\n",
       "      <td>Bernie supporters on Twitter erupt in anger ag...</td>\n",
       "      <td>— Kaydee King (@KaydeeKing) November 9, 2016 T...</td>\n",
       "      <td>FAKE</td>\n",
       "    </tr>\n",
       "    <tr>\n",
       "      <th>4</th>\n",
       "      <td>875</td>\n",
       "      <td>The Battle of New York: Why This Primary Matters</td>\n",
       "      <td>It's primary day in New York and front-runners...</td>\n",
       "      <td>REAL</td>\n",
       "    </tr>\n",
       "  </tbody>\n",
       "</table>\n",
       "</div>"
      ],
      "text/plain": [
       "   Unnamed: 0                                              title  \\\n",
       "0        8476                       You Can Smell Hillary’s Fear   \n",
       "1       10294  Watch The Exact Moment Paul Ryan Committed Pol...   \n",
       "2        3608        Kerry to go to Paris in gesture of sympathy   \n",
       "3       10142  Bernie supporters on Twitter erupt in anger ag...   \n",
       "4         875   The Battle of New York: Why This Primary Matters   \n",
       "\n",
       "                                                text label  \n",
       "0  Daniel Greenfield, a Shillman Journalism Fello...  FAKE  \n",
       "1  Google Pinterest Digg Linkedin Reddit Stumbleu...  FAKE  \n",
       "2  U.S. Secretary of State John F. Kerry said Mon...  REAL  \n",
       "3  — Kaydee King (@KaydeeKing) November 9, 2016 T...  FAKE  \n",
       "4  It's primary day in New York and front-runners...  REAL  "
      ]
     },
     "execution_count": 2,
     "metadata": {},
     "output_type": "execute_result"
    }
   ],
   "source": [
    "data = pd.read_csv('news.csv')\n",
    "data.head()"
   ]
  },
  {
   "cell_type": "code",
   "execution_count": 6,
   "metadata": {},
   "outputs": [
    {
     "name": "stdout",
     "output_type": "stream",
     "text": [
      "  \n",
      "I’m not an immigrant, but my grandparents are. More than 50 years ago, they arrived in New York City from Iran. I grew up mainly in central New Jersey, an American kid playing little league for the Raritan Red Sox and soccer for the Raritan Rovers. In 1985, I travelled with my family to our ancestral land. I was only eight, but old enough to understand that the Iranians had lost their liberty and freedom. I saw the abject despair of a people who, in a desperate attempt to bring about change, had ushered in nationalist tyrants led by Ayatollah Khomeini. \n",
      "What I witnessed during that year in Iran changed the course of my life. In 1996, at age 19, wanting to help preserve the blessings of liberty and freedom we enjoy in America, I enlisted in the U.S. Navy. Now, with the rise of Donald Trump and his nationalist alt-right movement, I’ve come to feel that the values I sought to protect are in jeopardy. \n",
      "In Iran, theocratic fundmentalists sowed division and hatred of outsiders — of Westerners, Christians, and other religious minorities. Here in America, the right wing seems to have stolen passages directly from their playbook as it spreads hatred of immigrants, particularly Muslim ones. This form of nationalistic bigotry — Islamophobia — threatens the heart of our nation. When I chose to serve in the military, I did so to protect what I viewed as our sacred foundational values of liberty, equality, and democracy. Now, 20 years later, I’ve joined forces with fellow veterans to again fight for those sacred values, this time right here at home. \n",
      "“Death to America!” \n",
      "As a child, I sat in my class at the international school one sunny morning and heard in the distance the faint sounds of gunfire and rising chants of “Death to America!” That day would define the rest of my life. \n",
      "It was Tehran, the capital of Iran, in 1985. I was attending a unique school for bilingual students who had been born in Western nations. It had become the last refuge in that city with any tolerance for Western teaching, but that also made it a target for military fundamentalists. As the gunfire drew closer, I heard boots pounding the marble tiles outside, marching into our building, and thundering down the corridor toward my classroom. As I heard voices chanting “Death to America!” I remember wondering if I would survive to see my parents again. \n",
      "In a flash of green and black uniforms, those soldiers rushed into our classroom, grabbed us by our shirt collars, and yelled at us to get outside. We were then packed into the school’s courtyard where a soldier pointed his rifle at our group and commanded us to look up. Almost in unison, my classmates and I raised our eyes and saw the flags of our many nations being torn down and dangled from the balcony, then set ablaze and tossed, still burning, into the courtyard. As those flags floated to the ground in flames, the soldiers fired their guns in the air. Shouting, they ordered us — if we ever wanted to see our families again — to swear allegiance to the Grand Ayatollah Khomeini and trample on the remains of the burning symbols of our home countries. I scanned the smoke that was filling the courtyard for my friends and classmates and, horrified, watched them capitulate and begin to chant, “Death to America!” as they stomped on our sacred symbols. \n",
      "I was so angry that, young as I was, I began to plead with them to come to their senses. No one paid the slightest attention to an eight year old and yet, for the first time in my life, I felt something like righteous indignation. I suspect that, born and raised in America, I was already imbued with such a sense of privilege that I just couldn’t fathom the immense danger I was in. Certainly, I was acting in ways no native Iranian would have found reasonable. \n",
      "Across the smoke-filled courtyard, I saw a soldier coming at me and knew he meant to force me to submit. I spotted an American flag still burning, dropped to my knees, and grabbed the charred pieces from underneath a classmate’s feet. As the soldier closed in on me, I ducked and ran, still clutching my charred pieces of flag into a crowd of civilians who had gathered to witness the commotion. The events of that day would come to define all that I have ever stood for — or against. \n",
      "“Camel Jockey,” “Ayatollah,” and “Gandhi” \n",
      "My parents and I soon returned to the United States and I entered third grade. More than anything, I just wanted to be normal, to fit in and be accepted by my peers. Unfortunately, my first name, Nader (which I changed to Nate upon joining the Navy), and my swarthy Middle Eastern appearance, were little help on that score, eliciting regular jibes from my classmates. Even at that young age, they had already mastered a veritable thesaurus of ethnic defamation, including “camel jockey,” “sand-nigger,” “raghead,” “ayatollah,” and ironically, “Gandhi” (which I now take as a compliment). My classmates regularly sought to “other-ize” me in those years, as if I were a lesser American because of my faith and ethnicity. \n",
      "Yet I remember that tingling in my chest when I first donned my Cub Scout uniform — all because of the American flag patch on its shoulder. Something felt so good about wearing it, a feeling I still had when I joined the military. It seems that the flag I tried to rescue in Tehran was stapled to my heart, or that’s how I felt anyway as I wore my country’s uniform. \n",
      "When I took my oath of enlistment in the U.S. Navy, I gave my mom a camera and asked her to take some photos, but she was so overwhelmed with pride and joy that she cried throughout the ceremony and managed to snap only a few images of the carpet. She cried even harder when I was selected to serve as the first Muslim-American member of the U.S. Navy Presidential Ceremonial Honor Guard . On that day, I was proud, too, and all the taunts of those bullies of my childhood seemed finally silenced. \n",
      "Being tormented because of my ethnicity and religion in those early years had another effect on me. It caused me to become unusually sensitive to the nature of other people. Somehow, I grasped that, if it weren’t for a fear of the unknown, there was an inherent goodness and frail humanity lurking in many of the kids who bullied and harassed me. Often, I discovered, those same bullies could be tremendously kind to their families, friends, or even strangers. I realized, then, that if, despite everything, I could lay myself bare and trust them enough to reach out in kindness, I might in turn gain their trust and they might then see me, too, and stop operating from such a place of fear and hate. \n",
      "Through patience, humor, and understanding, I was able to offer myself as the embodiment of my people and somehow defang the “otherness” of so much that Americans found scary. To this day, I have friends from elementary school, middle school, high school, and the military who tell me that I am the only Muslim they have ever known and that, had they not met me, their perspective on Islam would have been wholly subject to the prevailing fear-based narrative that has poisoned this country since September 11, 2001. \n",
      "In 1998, I became special assistant to the Master Chief Petty Officer of the Navy and then, in 1999, I was recruited to serve at the Defense Intelligence Agency. In August 2000, I transferred to the Naval Reserve. \n",
      "In the wake of 9/11, I began to observe how so many of my fellow Americans were adopting a fundamentalist “us vs. them” attitude towards Muslims and Islam. I suddenly found myself in an America where the scattered insults I had endured as a child took on an overarching and sinister meaning and form, where they became something like an ideology and way of life. \n",
      "By the time I completed my military service in 2006, I had begun to understand that our policies in the Middle East,similarly disturbed, seemed in pursuit of little more than perpetual warfare. That, in turn, was made possible by the creation of a new enemy: Islam — or rather of a portrait, painted by the powers-that-be, of Islam as a terror religion, as a hooded villain lurking out there somewhere in the desert, waiting to destroy us. I knew that attempting to dispel, through the patient approach of my childhood, the kind of Islamophobia that now had the country by the throat was not going to be enough. Post-9/11 attacks on Muslims in the U.S. and elsewhere were not merely childish taunts. \n",
      "For the first time in my life, in a country gripped by fear, I believed I was witnessing a shift, en masse, toward an American fundamentalism and ultra-nationalism that reflected a wanton lack of reason, not to mention fact. As a boy in Iran, I had witnessed the dark destination down which such a path could take a country. Now, it seemed to me, in America’s quest to escape the very demons we had sown by our own misadventures in the Middle East, and forsaking the hallmarks of our founding, we risked becoming everything we sought to defeat. \n",
      "The Boy in the Schoolyard Grown Up \n",
      "On February 10, 2015, three young American students, Yusor Abu-Salha, Razan Abu-Salha, and Deah Shaddy Barakat, were executed at an apartment complex in Chapel Hill, North Carolina. The killer was a gun-crazy white man filled with hate and described by his own daughter as “a monster.” Those assassinations struck a special chord of sorrow and loss in me. My mom and I cried and prayed together for those students and their families. \n",
      "The incident in Chapel Hill also awoke in me some version of the righteous indignation I had felt so many years earlier in that smoke-filled courtyard in Iran. I would be damned if I stood by while kids in my country were murdered simply because of their faith. It violated every word of the oath I had taken when I joined the military and desecrated every value I held in my heart as a sacred tenet of our nation. White nationalists and bigots had, by then, thrown down the gauntlet for so much of this, using Islamophobia to trigger targeted assassinations in the United States. This was terrorism, pure and simple, inspired by hate-speakers here at home. \n",
      "At that moment, I reached out to fellow veterans who, I thought, might be willing to help — and it’s true what they say about soul mates being irrevocably drawn to each other. When I contacted Veterans For Peace , an organization dedicated to exposing the costs of war and militarism, I found the leadership well aware of the inherent dangers of Islamophobia and of the need to confront this new enemy. So Executive Director Michael McPhearson formed a committee of vets from around the country to decide how those of us who had donned uniforms to defend this land could best battle the phenomenon — and I, of course, joined it. \n",
      "From that committee emerged Veterans Challenge Islamophobia (VCI). It now has organizers in Arizona, Georgia, New Jersey, and Texas, and that’s just a beginning. Totally nonpartisan, VCI focuses on politicians of any party who engage in hate speech. We’ve met with leaders of American Muslim communities, sat with them through Ramadan, and attended their Iftar dinners to break our fasts together. In the wake of the Orlando shooting , we at VCI also mobilized to fight back against attempts to pit the Muslim community against the LGBTQ+ community. \n",
      "Our group was born of the belief that, as American military veterans, we had a responsibility to call out bigotry, hatred, and the perpetuation of endless warfare. We want the American Muslim community to know that they have allies, and that those allies are indeed veterans as well. We stand with them and for them and, for those of us who are Muslim, among them. \n",
      "Nationalism and xenophobia have no place in American life, and I, for my part, don’t think Donald Trump or anyone like him should be able to peddle Islamophobia in an attempt to undermine our national unity. Without Islamophobia, there no longer exists a “clash of civilizations.” Without Islamophobia, whatever the problems in the world may be, there is no longer an “us vs. them” and it’s possible to begin reimagining a world of something other than perpetual war. \n",
      "As of now, this remains the struggle of my life, for despite my intense love for America, some of my countrymen increasingly see American Muslims as the “other,” the enemy. \n",
      "My Mom taught me as a boy that the only thing that mattered was what was in my heart. Now, with her in mind and as a representative of VCI, when I meet fellow Americans I always remember my childhood experiences with my bullying peers. And I still lay myself bare, as I did then. I give trust to gain trust, but always knowing that these days this isn’t just a matter of niceties. It’s a question of life or death. It’s part of a battle for the soul of our nation. \n",
      "In many ways, I still consider myself that boy in the school courtyard in Tehran trying to rescue charred pieces of that flag from those trampling feet. It’s just that now I’m doing it in my own country. \n",
      "Nate Terani is a veteran of the U.S. Navy and served in military intelligence with the Defense Intelligence Agency. He is currently a member of the leadership team at Common Defense PAC and regional campaign organizer with Veterans Challenge Islamophobia . He is a featured columnist with the Arizona Muslim Voice newspaper. (Reprinted from TomDispatch by permission of author or representative)\n"
     ]
    }
   ],
   "source": [
    "print(data['text'][5])"
   ]
  },
  {
   "cell_type": "code",
   "execution_count": 6,
   "metadata": {},
   "outputs": [],
   "source": [
    "x = data['text']\n",
    "y = data['label']"
   ]
  },
  {
   "cell_type": "code",
   "execution_count": 7,
   "metadata": {},
   "outputs": [
    {
     "data": {
      "text/plain": [
       "0       FAKE\n",
       "1       FAKE\n",
       "2       REAL\n",
       "3       FAKE\n",
       "4       REAL\n",
       "5       FAKE\n",
       "6       FAKE\n",
       "7       REAL\n",
       "8       REAL\n",
       "9       REAL\n",
       "10      REAL\n",
       "11      REAL\n",
       "12      FAKE\n",
       "13      FAKE\n",
       "14      REAL\n",
       "15      REAL\n",
       "16      FAKE\n",
       "17      FAKE\n",
       "18      REAL\n",
       "19      REAL\n",
       "20      REAL\n",
       "21      FAKE\n",
       "22      REAL\n",
       "23      REAL\n",
       "24      FAKE\n",
       "25      REAL\n",
       "26      REAL\n",
       "27      REAL\n",
       "28      REAL\n",
       "29      FAKE\n",
       "        ... \n",
       "6305    FAKE\n",
       "6306    FAKE\n",
       "6307    FAKE\n",
       "6308    FAKE\n",
       "6309    REAL\n",
       "6310    REAL\n",
       "6311    REAL\n",
       "6312    FAKE\n",
       "6313    FAKE\n",
       "6314    FAKE\n",
       "6315    REAL\n",
       "6316    REAL\n",
       "6317    FAKE\n",
       "6318    FAKE\n",
       "6319    REAL\n",
       "6320    FAKE\n",
       "6321    FAKE\n",
       "6322    FAKE\n",
       "6323    REAL\n",
       "6324    REAL\n",
       "6325    FAKE\n",
       "6326    FAKE\n",
       "6327    REAL\n",
       "6328    FAKE\n",
       "6329    FAKE\n",
       "6330    REAL\n",
       "6331    FAKE\n",
       "6332    FAKE\n",
       "6333    REAL\n",
       "6334    REAL\n",
       "Name: label, Length: 6335, dtype: object"
      ]
     },
     "execution_count": 7,
     "metadata": {},
     "output_type": "execute_result"
    }
   ],
   "source": [
    "y"
   ]
  },
  {
   "cell_type": "code",
   "execution_count": 9,
   "metadata": {},
   "outputs": [],
   "source": [
    "from sklearn.model_selection import train_test_split\n",
    "from sklearn.feature_extraction.text import TfidfVectorizer\n",
    "from sklearn.linear_model import PassiveAggressiveClassifier\n",
    "from sklearn.metrics import accuracy_score, confusion_matrix"
   ]
  },
  {
   "attachments": {
    "imagen.png": {
     "image/png": "[encoded data removed]"
    }
   },
   "cell_type": "markdown",
   "metadata": {},
   "source": [
    "# Matriz de la desinformación\n",
    "![imagen.png](attachment:imagen.png)"
   ]
  },
  {
   "cell_type": "code",
   "execution_count": 10,
   "metadata": {},
   "outputs": [
    {
     "data": {
      "text/plain": [
       "2402    REAL\n",
       "1922    REAL\n",
       "3475    FAKE\n",
       "6197    REAL\n",
       "4748    FAKE\n",
       "780     REAL\n",
       "4734    FAKE\n",
       "265     FAKE\n",
       "5421    REAL\n",
       "402     FAKE\n",
       "2878    REAL\n",
       "2535    REAL\n",
       "1448    FAKE\n",
       "2235    FAKE\n",
       "4946    REAL\n",
       "5124    FAKE\n",
       "716     REAL\n",
       "2702    FAKE\n",
       "3294    FAKE\n",
       "3823    REAL\n",
       "3829    REAL\n",
       "898     FAKE\n",
       "1163    FAKE\n",
       "2301    FAKE\n",
       "794     FAKE\n",
       "4568    FAKE\n",
       "5871    FAKE\n",
       "3000    FAKE\n",
       "2976    FAKE\n",
       "575     FAKE\n",
       "        ... \n",
       "2008    REAL\n",
       "99      REAL\n",
       "2496    REAL\n",
       "1871    REAL\n",
       "2046    REAL\n",
       "4851    REAL\n",
       "5072    FAKE\n",
       "2163    REAL\n",
       "6036    FAKE\n",
       "6216    REAL\n",
       "2893    FAKE\n",
       "537     REAL\n",
       "1701    REAL\n",
       "2897    REAL\n",
       "2222    REAL\n",
       "2135    REAL\n",
       "2599    REAL\n",
       "705     FAKE\n",
       "3468    REAL\n",
       "5924    FAKE\n",
       "5874    FAKE\n",
       "4373    REAL\n",
       "1033    REAL\n",
       "5827    FAKE\n",
       "4859    REAL\n",
       "4931    REAL\n",
       "3264    REAL\n",
       "1653    FAKE\n",
       "2607    FAKE\n",
       "2732    REAL\n",
       "Name: label, Length: 5068, dtype: object"
      ]
     },
     "execution_count": 10,
     "metadata": {},
     "output_type": "execute_result"
    }
   ],
   "source": [
    "x_train, x_test, y_train, y_test = train_test_split(x, y, test_size = 0.2, random_state = 0)\n",
    "y_train"
   ]
  },
  {
   "cell_type": "code",
   "execution_count": 11,
   "metadata": {},
   "outputs": [],
   "source": [
    "tfvect = TfidfVectorizer(stop_words='english', max_df = 0.7)\n",
    "tfid_x_train = tfvect.fit_transform(x_train)\n",
    "tfid_x_test = tfvect.transform(x_test)"
   ]
  },
  {
   "cell_type": "code",
   "execution_count": 12,
   "metadata": {},
   "outputs": [
    {
     "data": {
      "text/plain": [
       "PassiveAggressiveClassifier(C=1.0, average=False, class_weight=None,\n",
       "              fit_intercept=True, loss='hinge', max_iter=50, n_iter=None,\n",
       "              n_jobs=1, random_state=None, shuffle=True, tol=None,\n",
       "              verbose=0, warm_start=False)"
      ]
     },
     "execution_count": 12,
     "metadata": {},
     "output_type": "execute_result"
    }
   ],
   "source": [
    "classifier = PassiveAggressiveClassifier(max_iter = 50)\n",
    "classifier.fit(tfid_x_train, y_train)"
   ]
  },
  {
   "cell_type": "code",
   "execution_count": 13,
   "metadata": {},
   "outputs": [],
   "source": [
    "y_pred = classifier.predict(tfid_x_test)\n",
    "score = accuracy_score(y_test, y_pred)"
   ]
  },
  {
   "cell_type": "code",
   "execution_count": 14,
   "metadata": {},
   "outputs": [
    {
     "name": "stdout",
     "output_type": "stream",
     "text": [
      "Accuracy: 93.61%\n"
     ]
    }
   ],
   "source": [
    "print(f'Accuracy: {round(score * 100, 2)}%')"
   ]
  },
  {
   "cell_type": "code",
   "execution_count": 15,
   "metadata": {},
   "outputs": [
    {
     "name": "stdout",
     "output_type": "stream",
     "text": [
      "[[573  42]\n",
      " [ 39 613]]\n"
     ]
    }
   ],
   "source": [
    "cf = confusion_matrix(y_test, y_pred, labels=['FAKE', 'REAL'])\n",
    "print(cf)"
   ]
  },
  {
   "cell_type": "code",
   "execution_count": 16,
   "metadata": {},
   "outputs": [],
   "source": [
    "def fake_news_det(news):\n",
    "    input_data = [news]\n",
    "    vectorized_input_data = tfvect.transform(input_data)\n",
    "    prediction = classifier.predict(vectorized_input_data)\n",
    "    print(prediction)"
   ]
  },
  {
   "cell_type": "code",
   "execution_count": 17,
   "metadata": {},
   "outputs": [
    {
     "name": "stdout",
     "output_type": "stream",
     "text": [
      "['REAL']\n"
     ]
    }
   ],
   "source": [
    "fake_news_det('U.S. Secretary of State John F. Kerry said Monday that he will stop in Paris later this week, amid criticism that no top American officials attended Sundayâ€™s unity march against terrorism.')"
   ]
  },
  {
   "cell_type": "code",
   "execution_count": 18,
   "metadata": {},
   "outputs": [
    {
     "name": "stdout",
     "output_type": "stream",
     "text": [
      "['FAKE']\n"
     ]
    }
   ],
   "source": [
    "fake_news_det(\"Go to Article President Barack Obama has been campaigning hard for the woman who is supposedly going to extend his legacy four more years. The only problem with stumping for Hillary Clinton, however, is sheâ€™s not exactly a candidate easy to get too enthused about.\")"
   ]
  },
  {
   "cell_type": "code",
   "execution_count": 19,
   "metadata": {},
   "outputs": [],
   "source": [
    "import pickle\n",
    "pickle.dump(classifier, open('fake_news_model.pkl', 'wb'))"
   ]
  },
  {
   "cell_type": "code",
   "execution_count": 20,
   "metadata": {},
   "outputs": [],
   "source": [
    "loded_model = pickle.load(open('fake_news_model.pkl', 'rb'))"
   ]
  },
  {
   "cell_type": "code",
   "execution_count": null,
   "metadata": {},
   "outputs": [],
   "source": [
    "def fake_news_det1(news):\n",
    "    input_data = [news]\n",
    "    vectorized_input_data = tfvect.transform(input_data)\n",
    "    prediction = loded_model.predict(vectorized_input_data)\n",
    "    print(prediction)"
   ]
  },
  {
   "cell_type": "code",
   "execution_count": null,
   "metadata": {},
   "outputs": [],
   "source": [
    "fake_news_det1(\"Go to Article President Barack Obama has been campaigning hard for the woman who is supposedly going to extend his legacy four more years. The only problem with stumping for Hillary Clinton, however, is sheâ€™s not exactly a candidate easy to get too enthused about.\")"
   ]
  },
  {
   "cell_type": "markdown",
   "metadata": {},
   "source": [
    "Noticia Falsa 1:\n",
    "Paul Ryan volvió a revertir el rumbo y anunció que, después de todo, estaba de regreso en el Tren Trump. Este fue un cambio radical de donde estaba hace unas semanas. Anteriormente había declarado que no apoyaría ni defendería a Trump después de que se hiciera pública una cinta en la que Trump se jactaba de agredir a las mujeres. De repente, Ryan apareció en un mitin a favor de Trump\n",
    "\n",
    "Noticia Verdadera 2: \n",
    "\n",
    "El secretario de Estado de Estados Unidos, John F. Kerry, dijo el lunes que se detendrá en París a finales de esta semana, en medio de críticas de que ningún alto funcionario estadounidense asistió a la marcha de unidad del domingo contra el terrorismo. \\ N \\ nKerry dijo que espera llegar a París el jueves por la noche, ya que regresa a casa después de una semana en el extranjero. Dijo que volará a Francia al concluir una serie de reuniones programadas para el jueves \n",
    "\n",
    "Noticia Falsa 2:\n",
    "Daniel Greenfield, miembro de periodismo de Shillman en el Freedom Center, es un escritor de Nueva York que se centra en el Islam radical. \\ nEn la recta final de las elecciones, Hillary Rodham Clinton entró en guerra con el FBI. \\ nLa palabra \"sin precedentes\" se ha utilizado con tanta frecuencia en estas elecciones que debería retirarse. Pero aún no tiene precedentes para el candidato de un partido político importante ir a la guerra con el FBI."
   ]
  }
 ],
 "metadata": {
  "kernelspec": {
   "display_name": "Python 3",
   "language": "python",
   "name": "python3"
  },
  "language_info": {
   "codemirror_mode": {
    "name": "ipython",
    "version": 3
   },
   "file_extension": ".py",
   "mimetype": "text/x-python",
   "name": "python",
   "nbconvert_exporter": "python",
   "pygments_lexer": "ipython3",
   "version": "3.6.5"
  }
 },
 "nbformat": 4,
 "nbformat_minor": 2
}
